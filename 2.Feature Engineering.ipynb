{
 "cells": [
  {
   "cell_type": "code",
   "execution_count": 7,
   "metadata": {},
   "outputs": [],
   "source": [
    "import numpy as np \n",
    "import pandas as pd \n",
    "import matplotlib.pyplot as plt\n",
    "import seaborn as sns\n",
    "import gc\n",
    "\n",
    "import warnings\n",
    "import time\n",
    "import sys\n",
    "import datetime\n",
    "\n",
    "import holidays\n",
    "holidays = holidays.Brazil()\n",
    "\n",
    "warnings.simplefilter(action='ignore', category=FutureWarning)\n",
    "\n",
    "pd.set_option('display.max_rows', 500)\n",
    "pd.set_option('display.max_columns', 500)\n",
    "pd.set_option('display.width', 1000)"
   ]
  },
  {
   "cell_type": "code",
   "execution_count": 8,
   "metadata": {},
   "outputs": [],
   "source": [
    "def reduce_mem_usage(df, verbose=True):\n",
    "    numerics = ['int16', 'int32', 'int64', 'float16', 'float32', 'float64']\n",
    "    start_mem = df.memory_usage().sum() / 1024**2    \n",
    "    for col in df.columns:\n",
    "        col_type = df[col].dtypes\n",
    "        if col_type in numerics:\n",
    "            c_min = df[col].min()\n",
    "            c_max = df[col].max()\n",
    "            if str(col_type)[:3] == 'int':\n",
    "                if c_min > np.iinfo(np.int8).min and c_max < np.iinfo(np.int8).max:\n",
    "                    df[col] = df[col].astype(np.int8)\n",
    "                elif c_min > np.iinfo(np.int16).min and c_max < np.iinfo(np.int16).max:\n",
    "                    df[col] = df[col].astype(np.int16)\n",
    "                elif c_min > np.iinfo(np.int32).min and c_max < np.iinfo(np.int32).max:\n",
    "                    df[col] = df[col].astype(np.int32)\n",
    "                elif c_min > np.iinfo(np.int64).min and c_max < np.iinfo(np.int64).max:\n",
    "                    df[col] = df[col].astype(np.int64)  \n",
    "            else:\n",
    "                if c_min > np.finfo(np.float16).min and c_max < np.finfo(np.float16).max:\n",
    "                    df[col] = df[col].astype(np.float16)\n",
    "                elif c_min > np.finfo(np.float32).min and c_max < np.finfo(np.float32).max:\n",
    "                    df[col] = df[col].astype(np.float32)\n",
    "                else:\n",
    "                    df[col] = df[col].astype(np.float64)    \n",
    "    end_mem = df.memory_usage().sum() / 1024**2\n",
    "    if verbose: print('Mem. usage decreased to {:5.2f} Mb ({:.1f}% reduction)'.format(end_mem, 100 * (start_mem - end_mem) / start_mem))\n",
    "    return df"
   ]
  },
  {
   "cell_type": "code",
   "execution_count": 9,
   "metadata": {},
   "outputs": [],
   "source": [
    "def get_new_columns(name,aggs):\n",
    "    return [name + '_' + k + '_' + agg for k in aggs.keys() for agg in aggs[k]]"
   ]
  },
  {
   "cell_type": "code",
   "execution_count": 10,
   "metadata": {},
   "outputs": [
    {
     "name": "stdout",
     "output_type": "stream",
     "text": [
      "Mem. usage decreased to  0.57 Mb (46.4% reduction)\n",
      "Mem. usage decreased to  0.57 Mb (46.4% reduction)\n"
     ]
    }
   ],
   "source": [
    "def read_data(input_file):\n",
    "    df = pd.read_csv(input_file, parse_dates=['first_active_month'], nrows = 1000)\n",
    "    df['first_active_month'] = pd.to_datetime(df['first_active_month'])\n",
    "    df['elapsed_time'] = (datetime.datetime.today() - df['first_active_month']).dt.days\n",
    "    return df\n",
    "#_________________________________________\n",
    "train = read_data('C:/Users/1/Python/Kaggle/Elo loyalty card - 2/input/train.csv')\n",
    "test = read_data('C:/Users/1/Python/Kaggle/Elo loyalty card - 2/input/test.csv')\n",
    "hist_trans = reduce_mem_usage(pd.read_csv('C:/Users/1/Python/Kaggle/Elo loyalty card - 2/input/historical_transactions.csv', nrows = 10000))\n",
    "new_merchant_trans = reduce_mem_usage(pd.read_csv('C:/Users/1/Python/Kaggle/Elo loyalty card - 2/input/new_merchant_transactions.csv', nrows = 10000))"
   ]
  },
  {
   "cell_type": "code",
   "execution_count": 11,
   "metadata": {},
   "outputs": [],
   "source": [
    "for df in [hist_trans,new_merchant_trans]:\n",
    "    df['category_2'].fillna(1.0,inplace=True)\n",
    "    df['category_3'].fillna('A',inplace=True)\n",
    "    df['merchant_id'].fillna('M_ID_00a6ca8a8a',inplace=True)\n",
    "\n",
    "for df in [hist_trans,new_merchant_trans]:\n",
    "    df['purchase_date'] = pd.to_datetime(df['purchase_date'])\n",
    "    df['year'] = df['purchase_date'].dt.year\n",
    "    df['weekofyear'] = df['purchase_date'].dt.weekofyear\n",
    "    df['month'] = df['purchase_date'].dt.month\n",
    "    df['dayofweek'] = df['purchase_date'].dt.dayofweek\n",
    "    df['weekend'] = (df.purchase_date.dt.weekday >=5).astype(int)\n",
    "    df['hour'] = df['purchase_date'].dt.hour\n",
    "    df['authorized_flag'] = df['authorized_flag'].map({'Y':1, 'N':0})\n",
    "    df['category_1'] = df['category_1'].map({'Y':1, 'N':0}) \n",
    "    #https://www.kaggle.com/c/elo-merchant-category-recommendation/discussion/73244\n",
    "    df['month_diff'] = ((datetime.datetime.today() - df['purchase_date']).dt.days)//30\n",
    "    df['month_diff'] += df['month_lag']\n",
    "    \n",
    "hist_trans = pd.get_dummies(hist_trans, columns=['category_3'])\n",
    "new_merchant_trans = pd.get_dummies(new_merchant_trans, columns=['category_3'])"
   ]
  },
  {
   "cell_type": "code",
   "execution_count": 12,
   "metadata": {},
   "outputs": [
    {
     "data": {
      "text/plain": [
       "410"
      ]
     },
     "execution_count": 12,
     "metadata": {},
     "output_type": "execute_result"
    }
   ],
   "source": [
    "hist_trans_autorized = hist_trans[hist_trans['authorized_flag']==1]\n",
    "\n",
    "gdf = hist_trans.groupby(\"card_id\")\n",
    "gdf = gdf[\"authorized_flag\"].mean().reset_index()\n",
    "gdf.columns = [\"card_id\", \"authorized_flag_mean\"]\n",
    "df_train = pd.merge(train, gdf, on=\"card_id\", how=\"left\")\n",
    "df_test = pd.merge(test, gdf, on=\"card_id\", how=\"left\")\n",
    "\n",
    "del gdf\n",
    "del hist_trans\n",
    "gc.collect()"
   ]
  },
  {
   "cell_type": "code",
   "execution_count": 13,
   "metadata": {},
   "outputs": [
    {
     "data": {
      "text/plain": [
       "35"
      ]
     },
     "execution_count": 13,
     "metadata": {},
     "output_type": "execute_result"
    }
   ],
   "source": [
    "gdf = hist_trans_autorized.groupby('card_id')['installments'].agg(lambda x: x.value_counts().index[0])\n",
    "gdf = gdf.reset_index()\n",
    "gdf.columns = [\"card_id\", \"installments\"]\n",
    "df_train = pd.merge(df_train, gdf, on=\"card_id\", how=\"left\")\n",
    "df_test = pd.merge(df_test, gdf, on=\"card_id\", how=\"left\")\n",
    "del gdf; gc.collect()"
   ]
  },
  {
   "cell_type": "code",
   "execution_count": 14,
   "metadata": {},
   "outputs": [
    {
     "data": {
      "text/plain": [
       "70"
      ]
     },
     "execution_count": 14,
     "metadata": {},
     "output_type": "execute_result"
    }
   ],
   "source": [
    "gdf = hist_trans_autorized.groupby('card_id')['city_id'].agg(lambda x: x.value_counts().index[0])\n",
    "gdf = gdf.reset_index()\n",
    "gdf.columns = [\"card_id\", \"city_id\"]\n",
    "df_train = pd.merge(df_train, gdf, on=\"card_id\", how=\"left\")\n",
    "df_test = pd.merge(df_test, gdf, on=\"card_id\", how=\"left\")\n",
    "del gdf; gc.collect()"
   ]
  },
  {
   "cell_type": "code",
   "execution_count": 15,
   "metadata": {},
   "outputs": [
    {
     "data": {
      "text/plain": [
       "63"
      ]
     },
     "execution_count": 15,
     "metadata": {},
     "output_type": "execute_result"
    }
   ],
   "source": [
    "gdf = hist_trans_autorized.groupby('card_id')['state_id'].agg(lambda x: x.value_counts().index[0])\n",
    "gdf = gdf.reset_index()\n",
    "gdf.columns = [\"card_id\", \"state_id\"]\n",
    "df_trainf = pd.merge(df_train, gdf, on=\"card_id\", how=\"left\")\n",
    "df_test = pd.merge(df_test, gdf, on=\"card_id\", how=\"left\")\n",
    "del gdf; gc.collect()"
   ]
  },
  {
   "cell_type": "code",
   "execution_count": 16,
   "metadata": {},
   "outputs": [
    {
     "data": {
      "text/plain": [
       "70"
      ]
     },
     "execution_count": 16,
     "metadata": {},
     "output_type": "execute_result"
    }
   ],
   "source": [
    "gdf = hist_trans_autorized.groupby('card_id')['category_2'].agg(lambda x: x.value_counts().index[0])\n",
    "gdf = gdf.reset_index()\n",
    "gdf.columns = [\"card_id\", \"category_2\"]\n",
    "df_train = pd.merge(df_train, gdf, on=\"card_id\", how=\"left\")\n",
    "df_test = pd.merge(df_test, gdf, on=\"card_id\", how=\"left\")\n",
    "del gdf; gc.collect()"
   ]
  },
  {
   "cell_type": "code",
   "execution_count": 17,
   "metadata": {},
   "outputs": [
    {
     "name": "stdout",
     "output_type": "stream",
     "text": [
      "Mem. usage decreased to  0.00 Mb (64.7% reduction)\n"
     ]
    },
    {
     "data": {
      "text/plain": [
       "56"
      ]
     },
     "execution_count": 17,
     "metadata": {},
     "output_type": "execute_result"
    }
   ],
   "source": [
    "aggs = {}\n",
    "for col in ['month','hour','weekofyear','dayofweek','year','subsector_id','merchant_id','merchant_category_id']:\n",
    "    aggs[col] = ['nunique']\n",
    "    \n",
    "aggs['purchase_amount'] = ['sum','max','min','mean']\n",
    "aggs['purchase_date'] = ['max','min']\n",
    "aggs['month_lag'] = ['max','min','mean','var']\n",
    "aggs['month_diff'] = ['mean']\n",
    "aggs['weekend'] = ['mean']\n",
    "aggs['category_1'] = ['mean']\n",
    "aggs['card_id'] = ['size']\n",
    "aggs['category_3_A'] = ['mean']\n",
    "aggs['category_3_B'] = ['mean']\n",
    "aggs['category_3_C'] = ['mean']\n",
    "\n",
    "new_columns = get_new_columns('hist',aggs)\n",
    "df_hist_trans_group = hist_trans_autorized.groupby('card_id').agg(aggs)\n",
    "df_hist_trans_group.columns = new_columns\n",
    "df_hist_trans_group.reset_index(drop=False,inplace=True)\n",
    "df_hist_trans_group['hist_purchase_date_diff'] = (df_hist_trans_group['hist_purchase_date_max'] - df_hist_trans_group['hist_purchase_date_min']).dt.days\n",
    "df_hist_trans_group['hist_purchase_date_average'] = df_hist_trans_group['hist_purchase_date_diff']/df_hist_trans_group['hist_card_id_size']\n",
    "df_hist_trans_group['hist_purchase_date_uptonow'] = (datetime.datetime.today() - df_hist_trans_group['hist_purchase_date_max']).dt.days\n",
    "df_hist_trans_group = reduce_mem_usage(df_hist_trans_group)\n",
    "df_train = df_train.merge(df_hist_trans_group,on='card_id',how='left')\n",
    "df_test = df_test.merge(df_hist_trans_group,on='card_id',how='left')\n",
    "del df_hist_trans_group;gc.collect()"
   ]
  },
  {
   "cell_type": "code",
   "execution_count": 18,
   "metadata": {},
   "outputs": [
    {
     "name": "stdout",
     "output_type": "stream",
     "text": [
      "Mem. usage decreased to  0.05 Mb (67.0% reduction)\n"
     ]
    },
    {
     "data": {
      "text/plain": [
       "49"
      ]
     },
     "execution_count": 18,
     "metadata": {},
     "output_type": "execute_result"
    }
   ],
   "source": [
    "aggs = {}\n",
    "for col in ['month','hour','weekofyear','dayofweek','year','subsector_id','merchant_id','merchant_category_id']:\n",
    "    aggs[col] = ['nunique']\n",
    "    \n",
    "aggs['purchase_amount'] = ['sum','max','min','mean']\n",
    "aggs['purchase_date'] = ['max','min']\n",
    "aggs['month_lag'] = ['max','min','mean','var']\n",
    "aggs['month_diff'] = ['mean']\n",
    "aggs['weekend'] = ['mean']\n",
    "aggs['category_1'] = ['mean']\n",
    "aggs['card_id'] = ['size']\n",
    "aggs['category_3_A'] = ['mean']\n",
    "aggs['category_3_B'] = ['mean']\n",
    "aggs['category_3_C'] = ['mean']\n",
    "\n",
    "new_columns = get_new_columns('new',aggs)\n",
    "df_new_trans_group = new_merchant_trans.groupby('card_id').agg(aggs)\n",
    "df_new_trans_group.columns = new_columns\n",
    "df_new_trans_group.reset_index(drop=False,inplace=True)\n",
    "df_new_trans_group['new_purchase_date_diff'] = (df_new_trans_group['new_purchase_date_max'] - df_new_trans_group['new_purchase_date_min']).dt.days\n",
    "df_new_trans_group['new_purchase_date_average'] = df_new_trans_group['new_purchase_date_diff']/df_new_trans_group['new_card_id_size']\n",
    "df_new_trans_group['new_purchase_date_uptonow'] = (datetime.datetime.today() - df_new_trans_group['new_purchase_date_max']).dt.days\n",
    "df_new_trans_group = reduce_mem_usage(df_new_trans_group)\n",
    "df_train = df_train.merge(df_new_trans_group,on='card_id',how='left')\n",
    "df_test = df_test.merge(df_new_trans_group,on='card_id',how='left')\n",
    "del df_new_trans_group;gc.collect()"
   ]
  },
  {
   "cell_type": "code",
   "execution_count": 21,
   "metadata": {},
   "outputs": [
    {
     "ename": "NameError",
     "evalue": "name 'hist_trans_autorized' is not defined",
     "output_type": "error",
     "traceback": [
      "\u001b[1;31m---------------------------------------------------------------------------\u001b[0m",
      "\u001b[1;31mNameError\u001b[0m                                 Traceback (most recent call last)",
      "\u001b[1;32m<ipython-input-21-5ad6655b6ab3>\u001b[0m in \u001b[0;36m<module>\u001b[1;34m\u001b[0m\n\u001b[1;32m----> 1\u001b[1;33m \u001b[1;32mdel\u001b[0m \u001b[0mhist_trans_autorized\u001b[0m\u001b[1;33m;\u001b[0m\u001b[0mgc\u001b[0m\u001b[1;33m.\u001b[0m\u001b[0mcollect\u001b[0m\u001b[1;33m(\u001b[0m\u001b[1;33m)\u001b[0m\u001b[1;33m\u001b[0m\u001b[1;33m\u001b[0m\u001b[0m\n\u001b[0m\u001b[0;32m      2\u001b[0m \u001b[1;32mdel\u001b[0m \u001b[0mnew_merchant_trans\u001b[0m\u001b[1;33m;\u001b[0m\u001b[0mgc\u001b[0m\u001b[1;33m.\u001b[0m\u001b[0mcollect\u001b[0m\u001b[1;33m(\u001b[0m\u001b[1;33m)\u001b[0m\u001b[1;33m\u001b[0m\u001b[1;33m\u001b[0m\u001b[0m\n\u001b[0;32m      3\u001b[0m \u001b[0mdf_train\u001b[0m\u001b[1;33m.\u001b[0m\u001b[0mcolumns\u001b[0m\u001b[1;33m\u001b[0m\u001b[1;33m\u001b[0m\u001b[0m\n",
      "\u001b[1;31mNameError\u001b[0m: name 'hist_trans_autorized' is not defined"
     ]
    }
   ],
   "source": [
    "del hist_trans_autorized;gc.collect()\n",
    "del new_merchant_trans;gc.collect()\n"
   ]
  },
  {
   "cell_type": "code",
   "execution_count": 23,
   "metadata": {},
   "outputs": [],
   "source": [
    "for df in [df_train,df_test]:\n",
    "    df['first_active_month'] = pd.to_datetime(df['first_active_month'])\n",
    "    df['hist_first_buy'] = (df['hist_purchase_date_min'] - df['first_active_month']).dt.days\n",
    "    for f in ['hist_purchase_date_max','hist_purchase_date_min','new_purchase_date_max',\\\n",
    "                     'new_purchase_date_min']:\n",
    "        df[f] = df[f].astype(np.int64) * 1e-9\n",
    "    df['card_id_total'] = df['hist_card_id_size']+df['new_card_id_size']\n",
    "    df['purchase_amount_total'] = df['hist_purchase_amount_sum']+df['new_purchase_amount_sum']\n",
    "#all_col = list(df_train.columns)"
   ]
  },
  {
   "cell_type": "code",
   "execution_count": null,
   "metadata": {},
   "outputs": [],
   "source": [
    "df_train = pd.DataFrame(df_train)\n",
    "df_train.to_csv(\"df_train.csv\", index=False)\n",
    "df_test = pd.DataFrame(df_train)\n",
    "df_test.to_csv(\"df_test.csv\", index=False)"
   ]
  },
  {
   "cell_type": "code",
   "execution_count": null,
   "metadata": {},
   "outputs": [],
   "source": []
  },
  {
   "cell_type": "code",
   "execution_count": null,
   "metadata": {},
   "outputs": [],
   "source": []
  },
  {
   "cell_type": "code",
   "execution_count": 31,
   "metadata": {},
   "outputs": [],
   "source": []
  },
  {
   "cell_type": "code",
   "execution_count": null,
   "metadata": {},
   "outputs": [],
   "source": []
  },
  {
   "cell_type": "code",
   "execution_count": null,
   "metadata": {},
   "outputs": [],
   "source": []
  },
  {
   "cell_type": "code",
   "execution_count": null,
   "metadata": {},
   "outputs": [],
   "source": []
  }
 ],
 "metadata": {
  "kernelspec": {
   "display_name": "Python 3",
   "language": "python",
   "name": "python3"
  },
  "language_info": {
   "codemirror_mode": {
    "name": "ipython",
    "version": 3
   },
   "file_extension": ".py",
   "mimetype": "text/x-python",
   "name": "python",
   "nbconvert_exporter": "python",
   "pygments_lexer": "ipython3",
   "version": "3.7.1"
  }
 },
 "nbformat": 4,
 "nbformat_minor": 2
}
