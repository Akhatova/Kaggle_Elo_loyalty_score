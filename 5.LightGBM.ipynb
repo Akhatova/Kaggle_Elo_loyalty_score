{
 "cells": [
  {
   "cell_type": "code",
   "execution_count": 9,
   "metadata": {},
   "outputs": [],
   "source": [
    "import pandas as pd\n",
    "from sklearn import datasets, linear_model\n",
    "from sklearn.model_selection import train_test_split\n",
    "from matplotlib import pyplot as plt\n",
    "import numpy as np\n",
    "import time\n",
    "\n",
    "import matplotlib\n",
    "import lightgbm as lgb\n",
    "from sklearn.model_selection import KFold\n",
    "from sklearn.metrics import mean_squared_error"
   ]
  },
  {
   "cell_type": "code",
   "execution_count": 10,
   "metadata": {},
   "outputs": [],
   "source": [
    "train = pd.read_csv('C:/Users/1/Python/Kaggle/Elo loyalty card/train_clean.csv', nrows = 1000)\n",
    "test = pd.read_csv('C:/Users/1/Python/Kaggle/Elo loyalty card/test_clean.csv', nrows = 1000)\n",
    "\n",
    "target = train['target']"
   ]
  },
  {
   "cell_type": "code",
   "execution_count": 12,
   "metadata": {},
   "outputs": [],
   "source": [
    "#train['outliers'] = 0\n",
    "#train.loc[train['target'] < -30, 'outliers'] = 1\n",
    "#train = train[train['outliers'] == 0]\n",
    "#target = train['target']"
   ]
  },
  {
   "cell_type": "code",
   "execution_count": 13,
   "metadata": {},
   "outputs": [],
   "source": [
    "categorical = ['feature_1', 'feature_2', 'feature_3', 'installments', 'city_id', 'category_2']\n",
    "objects = ['first_active_month','card_id','outliers', 'target']\n",
    "features = [c for c in train.columns if c not in objects]"
   ]
  },
  {
   "cell_type": "code",
   "execution_count": 14,
   "metadata": {},
   "outputs": [
    {
     "name": "stdout",
     "output_type": "stream",
     "text": [
      "fold n°0\n",
      "Training until validation scores don't improve for 200 rounds.\n",
      "[100]\ttraining's rmse: 1.08278\tvalid_1's rmse: 1.7739\n",
      "[200]\ttraining's rmse: 0.809208\tvalid_1's rmse: 1.81979\n",
      "Early stopping, best iteration is:\n",
      "[20]\ttraining's rmse: 1.41999\tvalid_1's rmse: 1.70438\n",
      "fold n°1\n",
      "Training until validation scores don't improve for 200 rounds.\n",
      "[100]\ttraining's rmse: 1.08883\tvalid_1's rmse: 1.81861\n",
      "[200]\ttraining's rmse: 0.807123\tvalid_1's rmse: 1.87753\n",
      "Early stopping, best iteration is:\n",
      "[53]\ttraining's rmse: 1.26787\tvalid_1's rmse: 1.76587\n",
      "fold n°2\n",
      "Training until validation scores don't improve for 200 rounds.\n",
      "[100]\ttraining's rmse: 1.12697\tvalid_1's rmse: 1.60036\n",
      "[200]\ttraining's rmse: 0.857356\tvalid_1's rmse: 1.66322\n",
      "Early stopping, best iteration is:\n",
      "[2]\ttraining's rmse: 1.67344\tvalid_1's rmse: 1.49969\n",
      "fold n°3\n",
      "Training until validation scores don't improve for 200 rounds.\n",
      "[100]\ttraining's rmse: 1.09558\tvalid_1's rmse: 1.79982\n",
      "[200]\ttraining's rmse: 0.846141\tvalid_1's rmse: 1.85074\n",
      "Early stopping, best iteration is:\n",
      "[15]\ttraining's rmse: 1.44941\tvalid_1's rmse: 1.72307\n",
      "fold n°4\n",
      "Training until validation scores don't improve for 200 rounds.\n",
      "[100]\ttraining's rmse: 1.1738\tvalid_1's rmse: 1.43605\n",
      "[200]\ttraining's rmse: 0.867089\tvalid_1's rmse: 1.4975\n",
      "Early stopping, best iteration is:\n",
      "[7]\ttraining's rmse: 1.61404\tvalid_1's rmse: 1.38011\n",
      "CV score: 1.62172 \n"
     ]
    }
   ],
   "source": [
    "param = {'max_depth': 3,\n",
    "              'num_leaves': 50,\n",
    "              'min_data_in_leaf': 20,\n",
    "              \"feature_fraction\": 0.8,\n",
    "             \"bagging_fraction\": 0.8,\n",
    "              \"lambda_l1\": 1,\n",
    "              \"bagging_freq\": 3,\n",
    "              \"min_child_samples\": 20,\n",
    "              'objective':'regression',\n",
    "              'learning_rate': 0.1,\n",
    "              \"boosting\": \"gbdt\",\n",
    "              \"bagging_seed\": 2018,\n",
    "              \"metric\": 'rmse',\n",
    "              \"random_state\": 4590}\n",
    "    \n",
    "folds = KFold(n_splits=5, shuffle=True, random_state=15)\n",
    "oof = np.zeros(len(train))\n",
    "predictions = np.zeros(len(test))\n",
    "start = time.time()\n",
    "feature_importance_df = pd.DataFrame()\n",
    "\n",
    "for fold_, (trn_idx, val_idx) in enumerate(folds.split(train.values, target.values)):\n",
    "    print(\"fold n°{}\".format(fold_))\n",
    "    trn_data = lgb.Dataset(train.iloc[trn_idx][features], label=target.iloc[trn_idx])#, categorical_feature=categorical)\n",
    "    val_data = lgb.Dataset(train.iloc[val_idx][features], label=target.iloc[val_idx])#, categorical_feature=categorical)\n",
    "\n",
    "    num_round = 5000\n",
    "    clf = lgb.train(param, trn_data, num_round, valid_sets = [trn_data, val_data], verbose_eval=100, early_stopping_rounds = 200)\n",
    "    oof[val_idx] = clf.predict(train.iloc[val_idx][features], num_iteration=clf.best_iteration)\n",
    "    \n",
    "    fold_importance_df = pd.DataFrame()\n",
    "    fold_importance_df[\"Feature\"] = features\n",
    "    fold_importance_df[\"importance\"] = clf.feature_importance()\n",
    "    fold_importance_df[\"fold\"] = fold_ + 1\n",
    "    feature_importance_df = pd.concat([feature_importance_df, fold_importance_df], axis=0)\n",
    "    \n",
    "    predictions += clf.predict(test[features], num_iteration=clf.best_iteration) / folds.n_splits\n",
    "\n",
    "print(\"CV score: {:<8.5f}\".format(mean_squared_error(oof, target)**0.5))"
   ]
  },
  {
   "cell_type": "code",
   "execution_count": null,
   "metadata": {},
   "outputs": [],
   "source": [
    "sub_df = pd.DataFrame({\"card_id\":df_test[\"card_id\"].values})\n",
    "sub_df[\"target\"] = predictions\n",
    "sub_df.to_csv(\"submission.csv\", index=False)"
   ]
  }
 ],
 "metadata": {
  "kernelspec": {
   "display_name": "Python 3",
   "language": "python",
   "name": "python3"
  },
  "language_info": {
   "codemirror_mode": {
    "name": "ipython",
    "version": 3
   },
   "file_extension": ".py",
   "mimetype": "text/x-python",
   "name": "python",
   "nbconvert_exporter": "python",
   "pygments_lexer": "ipython3",
   "version": "3.7.1"
  }
 },
 "nbformat": 4,
 "nbformat_minor": 2
}
